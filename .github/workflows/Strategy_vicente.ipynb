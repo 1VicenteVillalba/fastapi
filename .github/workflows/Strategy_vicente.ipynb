{
 "cells": [
  {
   "cell_type": "code",
   "execution_count": 1,
   "metadata": {},
   "outputs": [
    {
     "name": "stdout",
     "output_type": "stream",
     "text": [
      "Ejecutando operación del ComportamientoConcretoA\n",
      "Ejecutando operación del ComportamientoConcretoB\n"
     ]
    }
   ],
   "source": [
    "# Clase padre para definir la interfaz del Strategy\n",
    "class Comportamiento:\n",
    "    def operacion(self):\n",
    "        pass\n",
    "\n",
    "# Clase hija que implementa un comportamiento específico\n",
    "class ComportamientoConcretoA(Comportamiento):\n",
    "    def operacion(self):\n",
    "        print(\"Ejecutando operación del ComportamientoConcretoA\")\n",
    "\n",
    "# Otra clase hija con un comportamiento diferente\n",
    "class ComportamientoConcretoB(Comportamiento):\n",
    "    def operacion(self):\n",
    "        print(\"Ejecutando operación del ComportamientoConcretoB\")\n",
    "\n",
    "# Contexto que utiliza la estrategia\n",
    "class Contexto:\n",
    "    def __init__(self, estrategia):\n",
    "        self._estrategia = estrategia\n",
    "\n",
    "    def ejecutar_operacion(self):\n",
    "        self._estrategia.operacion()\n",
    "\n",
    "# Ejemplo Bueno\n",
    "estrategia_a = ComportamientoConcretoA()\n",
    "contexto = Contexto(estrategia_a)\n",
    "contexto.ejecutar_operacion()\n",
    "\n",
    "estrategia_b = ComportamientoConcretoB()\n",
    "contexto = Contexto(estrategia_b)\n",
    "contexto.ejecutar_operacion()\n"
   ]
  },
  {
   "cell_type": "code",
   "execution_count": 2,
   "metadata": {},
   "outputs": [
    {
     "name": "stdout",
     "output_type": "stream",
     "text": [
      "Ejecutando operación de EstrategiaConcreta\n",
      "Ejecutando operación de EstrategiaConcreta\n",
      "Estrategia no válida\n"
     ]
    }
   ],
   "source": [
    "# Clase padre\n",
    "class Estrategia:\n",
    "    def operacion(self):\n",
    "        pass\n",
    "\n",
    "# Clase hija\n",
    "class EstrategiaConcreta(Estrategia):\n",
    "    def operacion(self):\n",
    "        print(\"Ejecutando operación de EstrategiaConcreta\")\n",
    "\n",
    "# Clase que debería ser el contexto, pero implementa la lógica de selección de estrategia\n",
    "class ContextoIncorrecto:\n",
    "    def ejecutar_operacion(self, estrategia):\n",
    "        if estrategia == \"A\":\n",
    "            estrategia = EstrategiaConcreta()\n",
    "            estrategia.operacion()\n",
    "        elif estrategia == \"B\":\n",
    "            estrategia = EstrategiaConcreta()\n",
    "            estrategia.operacion()\n",
    "        else:\n",
    "            print(\"Estrategia no válida\")\n",
    "\n",
    "# Ejemplo Malo (a malo me refiero a el uso incorrecto\")\n",
    "contexto = ContextoIncorrecto()\n",
    "contexto.ejecutar_operacion(\"A\")\n",
    "contexto.ejecutar_operacion(\"B\")\n",
    "contexto.ejecutar_operacion(\"C\")\n"
   ]
  }
 ],
 "metadata": {
  "kernelspec": {
   "display_name": "Python 3",
   "language": "python",
   "name": "python3"
  },
  "language_info": {
   "codemirror_mode": {
    "name": "ipython",
    "version": 3
   },
   "file_extension": ".py",
   "mimetype": "text/x-python",
   "name": "python",
   "nbconvert_exporter": "python",
   "pygments_lexer": "ipython3",
   "version": "3.11.9"
  }
 },
 "nbformat": 4,
 "nbformat_minor": 2
}
