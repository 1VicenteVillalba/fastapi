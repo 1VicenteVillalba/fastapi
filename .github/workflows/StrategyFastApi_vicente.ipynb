{
 "cells": [
  {
   "cell_type": "code",
   "execution_count": 9,
   "metadata": {},
   "outputs": [
    {
     "name": "stdout",
     "output_type": "stream",
     "text": [
      "Relevancia calculada usando la estrategia de likes: 50.0\n",
      "Relevancia calculada usando la estrategia de comentarios: 50.0\n",
      "Relevancia calculada usando la estrategia de antigüedad: 0.1\n"
     ]
    }
   ],
   "source": [
    "# Definimos la clase padre para la estrategia de cálculo de relevancia\n",
    "class CalculadorRelevancia:\n",
    "    def calcular_relevancia(self, publicacion) -> float:\n",
    "        pass\n",
    "\n",
    "# Implementación de la estrategia de cálculo basada en el número de likes\n",
    "class CalculadorLikes(CalculadorRelevancia):\n",
    "    def calcular_relevancia(self, publicacion) -> float:\n",
    "        return publicacion.num_likes * 0.5  # Se asigna un peso de 0.5 a los likes\n",
    "\n",
    "# Implementación de la estrategia de cálculo basada en el número de comentarios\n",
    "class CalculadorComentarios(CalculadorRelevancia):\n",
    "    def calcular_relevancia(self, publicacion) -> float:\n",
    "        return publicacion.num_comentarios * 1.0  # Se asigna un peso de 1.0 a los comentarios\n",
    "\n",
    "# Implementación de la estrategia de cálculo basada en la antigüedad de la publicación\n",
    "class CalculadorAntiguedad(CalculadorRelevancia):\n",
    "    def calcular_relevancia(self, publicacion) -> float:\n",
    "        # Se considera que una publicación más antigua es menos relevante\n",
    "        return 1.0 / publicacion.antiguedad_en_dias\n",
    "\n",
    "# Clase para representar una publicación en la red social\n",
    "class Publicacion:\n",
    "    def __init__(self, num_likes, num_comentarios, antiguedad_en_dias):\n",
    "        self.num_likes = num_likes\n",
    "        self.num_comentarios = num_comentarios\n",
    "        self.antiguedad_en_dias = antiguedad_en_dias\n",
    "\n",
    "# Clase Contexto que utiliza la estrategia de cálculo de relevancia\n",
    "class AnalizadorPublicaciones:\n",
    "    def __init__(self, estrategia: CalculadorRelevancia):\n",
    "        self.estrategia = estrategia\n",
    "\n",
    "    def calcular_relevancia_publicacion(self, publicacion: Publicacion) -> float:\n",
    "        return self.estrategia.calcular_relevancia(publicacion)\n",
    "\n",
    "# Ejemplo de uso\n",
    "if __name__ == \"__main__\":\n",
    "    publicacion = Publicacion(num_likes=100, num_comentarios=50, antiguedad_en_dias=10)\n",
    "\n",
    "    # Usando la estrategia de cálculo basada en likes\n",
    "    calculador_likes = CalculadorLikes()\n",
    "    analizador_likes = AnalizadorPublicaciones(calculador_likes)\n",
    "    relevancia_likes = analizador_likes.calcular_relevancia_publicacion(publicacion)\n",
    "    print(\"Relevancia calculada usando la estrategia de likes:\", relevancia_likes)\n",
    "\n",
    "    # Usando la estrategia de cálculo basada en comentarios\n",
    "    calculador_comentarios = CalculadorComentarios()\n",
    "    analizador_comentarios = AnalizadorPublicaciones(calculador_comentarios)\n",
    "    relevancia_comentarios = analizador_comentarios.calcular_relevancia_publicacion(publicacion)\n",
    "    print(\"Relevancia calculada usando la estrategia de comentarios:\", relevancia_comentarios)\n",
    "\n",
    "    # Usando la estrategia de cálculo basada en antigüedad\n",
    "    calculador_antiguedad = CalculadorAntiguedad()\n",
    "    analizador_antiguedad = AnalizadorPublicaciones(calculador_antiguedad)\n",
    "    relevancia_antiguedad = analizador_antiguedad.calcular_relevancia_publicacion(publicacion)\n",
    "    print(\"Relevancia calculada usando la estrategia de antigüedad:\", relevancia_antiguedad)\n",
    "\n",
    "\n"
   ]
  }
 ],
 "metadata": {
  "kernelspec": {
   "display_name": "Python 3",
   "language": "python",
   "name": "python3"
  },
  "language_info": {
   "codemirror_mode": {
    "name": "ipython",
    "version": 3
   },
   "file_extension": ".py",
   "mimetype": "text/x-python",
   "name": "python",
   "nbconvert_exporter": "python",
   "pygments_lexer": "ipython3",
   "version": "3.11.9"
  }
 },
 "nbformat": 4,
 "nbformat_minor": 2
}
